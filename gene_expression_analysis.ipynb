{
 "cells": [
  {
   "cell_type": "code",
   "execution_count": 1,
   "id": "bcf40c73-4d91-4eaa-9421-75483805883c",
   "metadata": {},
   "outputs": [],
   "source": [
    "import numpy as np\n",
    "import pandas as pd\n",
    "import plotly.express as px\n",
    "import scipy.stats as stats\n",
    "\n",
    "from scipy.stats import zscore\n",
    "from sklearn.mixture import GaussianMixture\n",
    "\n",
    "from utils.samples import USED_SAMPLES, REPROGRAMMED_SAMPLES"
   ]
  },
  {
   "cell_type": "code",
   "execution_count": 2,
   "id": "400f65a7-30f3-4b05-b48c-038855fda9c3",
   "metadata": {},
   "outputs": [],
   "source": [
    "df = pd.read_parquet(\"/app/data\")"
   ]
  },
  {
   "cell_type": "code",
   "execution_count": null,
   "id": "9874248b-012f-454f-bd86-c368d91808f4",
   "metadata": {},
   "outputs": [],
   "source": [
    "pd.set_option('display.max_columns', None)\n",
    "pd.set_option('display.max_rows', 200)"
   ]
  },
  {
   "cell_type": "code",
   "execution_count": null,
   "id": "012f6af1",
   "metadata": {},
   "outputs": [],
   "source": [
    "# Defaults\n",
    "COLUMN_GENE = \"ID_REF\"\n",
    "COLUMN_TISSUE_SAMPLE = \"TISSUE_SAMPLE\"\n",
    "COLUMN_TISSUE_NAME = \"tissue_name\"\n",
    "COLUMN_NORM_VALUE = \"VALUE\""
   ]
  },
  {
   "cell_type": "markdown",
   "id": "eb5ecf8c",
   "metadata": {},
   "source": [
    "# Basic stats"
   ]
  },
  {
   "cell_type": "code",
   "execution_count": null,
   "id": "baa3f4d8-e117-44a1-b7ee-11fbd8d888fb",
   "metadata": {},
   "outputs": [],
   "source": [
    "df.head()"
   ]
  },
  {
   "cell_type": "code",
   "execution_count": null,
   "id": "4b3c32b6-2720-4d5c-87cf-ff1d8d2feaa6",
   "metadata": {},
   "outputs": [],
   "source": [
    "df.shape"
   ]
  },
  {
   "cell_type": "code",
   "execution_count": null,
   "id": "e5be4fbb-f6f7-4701-9e96-0811ec45d50e",
   "metadata": {},
   "outputs": [],
   "source": [
    "# Get sample counts\n",
    "df_counts = df.groupby(by=\"TISSUE_SAMPLE\").agg(sample_count=(\"ID_REF\", \"count\")).reset_index()\n",
    "df_counts.head(30)"
   ]
  },
  {
   "cell_type": "markdown",
   "id": "4624da48",
   "metadata": {},
   "source": [
    "Mouse embryonic tissues have more samples. Omitting them for the time being."
   ]
  },
  {
   "cell_type": "code",
   "execution_count": null,
   "id": "96a19278",
   "metadata": {},
   "outputs": [],
   "source": [
    "# Select tissues\n",
    "mask_tissues = df[\"TISSUE_SAMPLE\"].isin(list(USED_SAMPLES.keys()))\n",
    "df = df[mask_tissues]"
   ]
  },
  {
   "cell_type": "code",
   "execution_count": null,
   "id": "f63dfcfb",
   "metadata": {},
   "outputs": [],
   "source": [
    "# Bring in samples\n",
    "df_samples = (\n",
    "    pd.DataFrame\n",
    "    .from_dict(USED_SAMPLES, orient=\"index\", columns=[\"tissue_name\"])\n",
    "    .reset_index()\n",
    "    .rename(columns={\"index\": \"TISSUE_SAMPLE\"})\n",
    "    )\n",
    "\n",
    "df = df.merge(\n",
    "    df_samples,\n",
    "    on=\"TISSUE_SAMPLE\",\n",
    "    how=\"left\"\n",
    ")"
   ]
  },
  {
   "cell_type": "code",
   "execution_count": null,
   "id": "f807286f",
   "metadata": {},
   "outputs": [],
   "source": [
    "# Add repgromming flag\n",
    "df[\"reprogrammed\"] = df[\"tissue_name\"].str.contains(\"_OSKM_\").astype(int)"
   ]
  },
  {
   "cell_type": "code",
   "execution_count": null,
   "id": "129d289b",
   "metadata": {},
   "outputs": [],
   "source": [
    "# Get tissues and genes\n",
    "tissues = df[\"TISSUE_SAMPLE\"].unique()\n",
    "genes = df[\"ID_REF\"].unique()"
   ]
  },
  {
   "cell_type": "code",
   "execution_count": null,
   "id": "19779978",
   "metadata": {},
   "outputs": [],
   "source": [
    "# This should match the # of unique rows for non mouse samples\n",
    "len(genes)"
   ]
  },
  {
   "cell_type": "code",
   "execution_count": null,
   "id": "cdfa7e09",
   "metadata": {},
   "outputs": [],
   "source": [
    "import plotly.graph_objects as go\n",
    "\n",
    "# Calculate mean and std for each group\n",
    "group_stats = df.groupby('tissue_name')['VALUE'].agg(['mean', 'median', 'std', 'min', 'max']).reset_index()\n",
    "\n",
    "# Create Plotly plot\n",
    "fig = go.Figure()\n",
    "\n",
    "# Add bar for mean\n",
    "fig.add_trace(go.Bar(\n",
    "    x=group_stats['tissue_name'],\n",
    "    y=group_stats['mean'],\n",
    "    name='Mean',\n",
    "    error_y=dict(type='data', array=group_stats['std'])\n",
    "))\n",
    "\n",
    "# Customize layout\n",
    "fig.update_layout(title='Mean and Standard Deviation by tissue_name', xaxis_title='tissue_name', yaxis_title='VALUE')\n",
    "\n",
    "fig.show()"
   ]
  },
  {
   "cell_type": "code",
   "execution_count": null,
   "id": "5e71ad28",
   "metadata": {},
   "outputs": [],
   "source": [
    "# Create Plotly plot\n",
    "fig = go.Figure()\n",
    "\n",
    "# Add scatter plot for mean\n",
    "fig.add_trace(go.Scatter(\n",
    "    x=group_stats['tissue_name'],\n",
    "    y=group_stats['mean'],\n",
    "    mode='markers',\n",
    "    name='Mean'\n",
    "))\n",
    "\n",
    "# Add scatter plot for median\n",
    "fig.add_trace(go.Scatter(\n",
    "    x=group_stats['tissue_name'],\n",
    "    y=group_stats['median'],\n",
    "    mode='markers',\n",
    "    name='Median'\n",
    "))\n",
    "\n",
    "# Add scatter plot for min\n",
    "fig.add_trace(go.Scatter(\n",
    "    x=group_stats['tissue_name'],\n",
    "    y=group_stats['min'],\n",
    "    mode='markers',\n",
    "    name='Min'\n",
    "))\n",
    "\n",
    "# Add scatter plot for max\n",
    "fig.add_trace(go.Scatter(\n",
    "    x=group_stats['tissue_name'],\n",
    "    y=group_stats['max'],\n",
    "    mode='markers',\n",
    "    name='Max'\n",
    "))\n",
    "\n",
    "# Customize layout\n",
    "fig.update_layout(\n",
    "    title='Mean, Median, Min, and Max by tissue_name',\n",
    "    xaxis_title='tissue_name',\n",
    "    yaxis_title='VALUE',\n",
    "    xaxis=dict(\n",
    "        tickmode='array',\n",
    "        tickvals=group_stats['tissue_name'],\n",
    "        ticktext=[\n",
    "            '<b>{}</b>'.format(sample) if 'OSKM' in sample else sample \n",
    "            for sample in group_stats['tissue_name']\n",
    "        ]\n",
    "    ),\n",
    "    height=800\n",
    "    )\n",
    "\n",
    "fig.show()"
   ]
  },
  {
   "cell_type": "markdown",
   "id": "18cfb0cc",
   "metadata": {},
   "source": [
    "Distributions not directly comparable based on the above plot\n",
    "\n",
    "**NOTE** The above plot is quite similar to a box plot, but much faster to compute at leat when using plotly."
   ]
  },
  {
   "cell_type": "markdown",
   "id": "76aa985d",
   "metadata": {},
   "source": [
    "## Test for a single case\n",
    "\n",
    "**Tissue:** GSM1215705  \n",
    "**Gene:** A_24_P325046  "
   ]
  },
  {
   "cell_type": "code",
   "execution_count": null,
   "id": "81b2cb72",
   "metadata": {},
   "outputs": [],
   "source": [
    "test_tissue = \"GSM1215634\"\n",
    "test_gene = \"A_24_P325046\"\n",
    "\n",
    "mask_test_tissue = df[\"TISSUE_SAMPLE\"] == test_tissue\n",
    "mask_test_gene = df[\"ID_REF\"] == test_gene\n",
    "\n",
    "df_test_tissue = df[mask_test_tissue].copy()\n",
    "df_test_gene = df[mask_test_gene].copy()"
   ]
  },
  {
   "cell_type": "code",
   "execution_count": null,
   "id": "48a7efcc",
   "metadata": {},
   "outputs": [],
   "source": [
    "# Creating a histogram using Plotly Express\n",
    "fig = px.histogram(df_test_tissue, x='VALUE')\n",
    "\n",
    "# Customize the layout\n",
    "fig.update_layout(\n",
    "    title_text=f'Normalized value gene histogram for tissue={test_tissue}',\n",
    "    xaxis_title_text='Value', # xaxis label\n",
    "    yaxis_title_text='Frequency', # yaxis label\n",
    "    bargap=0.2, # gap between bars of adjacent location coordinates\n",
    ")\n",
    "\n",
    "# Show the plot\n",
    "fig.show()"
   ]
  },
  {
   "cell_type": "markdown",
   "id": "6a2e683f",
   "metadata": {},
   "source": [
    "We should probably run distribution checks per tissue and use appropriate measure to normalize: https://bmcbioinformatics.biomedcentral.com/articles/10.1186/s12859-020-03892-w"
   ]
  },
  {
   "cell_type": "code",
   "execution_count": null,
   "id": "afb64a58",
   "metadata": {},
   "outputs": [],
   "source": [
    "# Assuming 'df' is your DataFrame and it has a 'VALUE' column for each 'TISSUE_SAMPLE'\n",
    "def test_bimodal(sample_values):\n",
    "    \"\"\"\n",
    "    Test if the distribution of the sample values is bimodal.\n",
    "    \"\"\"\n",
    "    sample_values = sample_values.reshape(-1, 1)\n",
    "\n",
    "    # Fit a Gaussian Mixture Model with 1 component\n",
    "    gmm1 = GaussianMixture(n_components=1, random_state=0).fit(sample_values)\n",
    "    aic1 = gmm1.aic(sample_values)\n",
    "\n",
    "    # Fit a Gaussian Mixture Model with 2 components\n",
    "    gmm2 = GaussianMixture(n_components=2, random_state=0).fit(sample_values)\n",
    "    aic2 = gmm2.aic(sample_values)\n",
    "\n",
    "    # If the AIC is significantly lower for 2 components, it suggests bimodality\n",
    "    return aic2 < aic1\n",
    "\n",
    "\n",
    "def test_distribution(sample_values, dist_name):\n",
    "    \"\"\"\n",
    "    Test a sample against a specified distribution and return a goodness-of-fit measure.\n",
    "    \"\"\"\n",
    "    if dist_name == 'normal':\n",
    "        statistic, p_value = stats.shapiro(sample_values)\n",
    "        return p_value > 0.05  # True if sample is likely normal\n",
    "    elif dist_name == 'cauchy':\n",
    "        # Fit to a Cauchy distribution and return goodness of fit (example: using KS test)\n",
    "        params = stats.cauchy.fit(sample_values)\n",
    "        statistic, p_value = stats.kstest(sample_values, 'cauchy', args=params)\n",
    "        return p_value > 0.05\n",
    "    elif dist_name == 'lognormal':\n",
    "        # Similar approach as Cauchy\n",
    "        params = stats.lognorm.fit(sample_values)\n",
    "        statistic, p_value = stats.kstest(sample_values, 'lognorm', args=params)\n",
    "        return p_value > 0.05\n",
    "    elif dist_name == 'gamma':\n",
    "        # Similar approach as Cauchy\n",
    "        params = stats.gamma.fit(sample_values)\n",
    "        statistic, p_value = stats.kstest(sample_values, 'gamma', args=params)\n",
    "        return p_value > 0.05\n",
    "    else:\n",
    "        raise ValueError(\"Unknown distribution\")\n",
    "\n",
    "\n",
    "def analyze_distributions(df):\n",
    "    results = []\n",
    "    tissue_samples = df['TISSUE_SAMPLE'].unique()\n",
    "    total_samples = len(tissue_samples)\n",
    "\n",
    "    for index, tissue in enumerate(tissue_samples, start=1):\n",
    "        print(f\"Analyzing {index}/{total_samples}: TISSUE_SAMPLE = {tissue}\")\n",
    "        \n",
    "        sample_values = df[df['TISSUE_SAMPLE'] == tissue]['VALUE'].dropna().to_numpy()\n",
    "        \n",
    "        result = {'TISSUE_SAMPLE': tissue}\n",
    "        if test_bimodal(sample_values):\n",
    "            result.update({dist: False for dist in ['normal', 'cauchy', 'lognormal', 'gamma']})\n",
    "            result['bimodal'] = True\n",
    "            print(f'\\tDistribution=bimodal')\n",
    "        else:\n",
    "            for dist in ['normal', 'cauchy', 'lognormal', 'gamma']:\n",
    "                print(f'\\tFitting distribution: {dist}')\n",
    "                result[dist] = test_distribution(sample_values, dist)\n",
    "            result['bimodal'] = False\n",
    "        \n",
    "        results.append(result)\n",
    "\n",
    "    return pd.DataFrame(results)\n",
    "\n",
    "# Assuming you have a DataFrame 'df'\n",
    "# df = pd.read_csv('your_data.csv')  # For example\n",
    "results_df = analyze_distributions(df)"
   ]
  },
  {
   "cell_type": "code",
   "execution_count": null,
   "id": "54426c5d",
   "metadata": {},
   "outputs": [],
   "source": [
    "results_df[results_df[\"bimodal\"] == False]"
   ]
  },
  {
   "cell_type": "markdown",
   "id": "e86af5db",
   "metadata": {},
   "source": [
    "Only two samples GSM1215652 and GSM1215769 do not seem bimodal. Then again, they do not seem to follow any of the chose distributions..."
   ]
  },
  {
   "cell_type": "code",
   "execution_count": null,
   "id": "e9f36809",
   "metadata": {},
   "outputs": [],
   "source": [
    "# Creating a histogram using Plotly Express\n",
    "fig = px.histogram(df[df['TISSUE_SAMPLE'] == \"GSM1215652\"], x='VALUE')\n",
    "\n",
    "# Customize the layout\n",
    "fig.update_layout(\n",
    "    title_text=f'Normalized value gene histogram for tissue=GSM1215652',\n",
    "    xaxis_title_text='Value', # xaxis label\n",
    "    yaxis_title_text='Frequency', # yaxis label\n",
    "    bargap=0.2, # gap between bars of adjacent location coordinates\n",
    ")\n",
    "\n",
    "# Show the plot\n",
    "fig.show()"
   ]
  },
  {
   "cell_type": "code",
   "execution_count": null,
   "id": "c419e6d9",
   "metadata": {},
   "outputs": [],
   "source": [
    "# Creating a histogram using Plotly Express\n",
    "fig = px.histogram(df[df['TISSUE_SAMPLE'] == \"GSM1215769\"], x='VALUE')\n",
    "\n",
    "# Customize the layout\n",
    "fig.update_layout(\n",
    "    title_text=f'Normalized value gene histogram for tissue=GSM1215769',\n",
    "    xaxis_title_text='Value', # xaxis label\n",
    "    yaxis_title_text='Frequency', # yaxis label\n",
    "    bargap=0.2, # gap between bars of adjacent location coordinates\n",
    ")\n",
    "\n",
    "# Show the plot\n",
    "fig.show()"
   ]
  },
  {
   "cell_type": "markdown",
   "id": "07e60015",
   "metadata": {},
   "source": [
    "However, the plots seem bimodalish with some peculiar properties.."
   ]
  },
  {
   "cell_type": "markdown",
   "id": "7c68c420",
   "metadata": {},
   "source": [
    "What if we compare with the total distribution"
   ]
  },
  {
   "cell_type": "code",
   "execution_count": null,
   "id": "7cb54666",
   "metadata": {},
   "outputs": [],
   "source": [
    "# Creating a histogram using Plotly Express\n",
    "fig = px.histogram(df_test_gene, x='VALUE')\n",
    "\n",
    "# Customize the layout\n",
    "fig.update_layout(\n",
    "    title_text=f'Histogram for gene={test_gene}',\n",
    "    xaxis_title_text='Value', # xaxis label\n",
    "    yaxis_title_text='Frequency', # yaxis label\n",
    "    #bargap=0.2, # gap between bars of adjacent location coordinates\n",
    ")\n",
    "\n",
    "# Show the plot\n",
    "fig.show()"
   ]
  },
  {
   "cell_type": "code",
   "execution_count": null,
   "id": "4e0d3c3a",
   "metadata": {},
   "outputs": [],
   "source": [
    "# Lets see about Dark and brightcorners\n",
    "mask_control = df[\"ID_REF\"].isin([\"DarkCorner\", \"GE_BrightCorner\"])\n",
    "df_control = df[mask_control]"
   ]
  },
  {
   "cell_type": "code",
   "execution_count": null,
   "id": "d6f464c1",
   "metadata": {},
   "outputs": [],
   "source": [
    "fig = px.histogram(df_control, x='VALUE', color=\"ID_REF\")\n",
    "\n",
    "# Customize the layout\n",
    "fig.update_layout(\n",
    "    title_text=f'Normalized value gene histogram for gene={test_gene}',\n",
    "    xaxis_title_text='Value', # xaxis label\n",
    "    yaxis_title_text='Frequency', # yaxis label\n",
    "    bargap=0.2, # gap between bars of adjacent location coordinates\n",
    ")\n",
    "\n",
    "# Show the plot\n",
    "fig.show()"
   ]
  },
  {
   "cell_type": "code",
   "execution_count": null,
   "id": "edcfd108",
   "metadata": {},
   "outputs": [],
   "source": [
    "# Explode and scatter plot\n",
    "df_control_pivoted = df_control.pivot(index='TISSUE_SAMPLE', columns='ID_REF', values='VALUE').reset_index()\n",
    "df_control_pivoted[\"control_mean\"] = (df_control_pivoted[\"DarkCorner\"] + df_control_pivoted[\"GE_BrightCorner\"]) / 2\n",
    "\n",
    "df_control_pivoted.head()"
   ]
  },
  {
   "cell_type": "code",
   "execution_count": null,
   "id": "e6afacb2",
   "metadata": {},
   "outputs": [],
   "source": [
    "# Creating the scatter plot\n",
    "fig = px.scatter(df_control_pivoted, x='DarkCorner', y='GE_BrightCorner')\n",
    "\n",
    "# Show the plot\n",
    "fig.show()"
   ]
  },
  {
   "cell_type": "code",
   "execution_count": null,
   "id": "226c0fcd",
   "metadata": {},
   "outputs": [],
   "source": [
    "def count_gene_expression_simple_threshold(\n",
    "        df: pd.DataFrame,\n",
    "        id_cols: list[str] = [\"ID_REF\"],\n",
    "        value_col: str = \"VALUE\",\n",
    "        threshold: float = 0.0\n",
    "        ) -> pd.DataFrame:\n",
    "    X = df.copy()\n",
    "    X = (\n",
    "        X\n",
    "        .assign(gene_expressed=lambda x: (x[value_col] > threshold).astype(int))\n",
    "        .groupby(id_cols)\n",
    "        .agg(\n",
    "            tissue_sample_count=(\"gene_expressed\", \"count\"),\n",
    "            gene_expressed_sum=(\"gene_expressed\", \"sum\")\n",
    "            )\n",
    "        .reset_index()\n",
    "    )\n",
    "    return X\n",
    "\n",
    "\n",
    "def count_gene_expression_column_threshold(\n",
    "        df: pd.DataFrame,\n",
    "        threshold_col: str,\n",
    "        id_cols: list[str] = [\"ID_REF\"],\n",
    "        value_col: str = \"VALUE\",\n",
    "        ) -> pd.DataFrame:\n",
    "    X = df.copy()\n",
    "    X = (\n",
    "        X\n",
    "        .assign(gene_expressed=lambda x: (x[value_col] > x[threshold_col]).astype(int))\n",
    "        .groupby(id_cols)\n",
    "        .agg(\n",
    "            tissue_sample_count=(\"gene_expressed\", \"count\"),\n",
    "            gene_expressed_sum=(\"gene_expressed\", \"sum\")\n",
    "            )\n",
    "        .reset_index()\n",
    "    )\n",
    "    return X\n",
    "\n",
    "\n",
    "def scale_to_range(group):\n",
    "    min_val = group.min()\n",
    "    max_val = group.max()\n",
    "    return 2 * ((group - min_val) / (max_val - min_val)) - 1"
   ]
  },
  {
   "cell_type": "code",
   "execution_count": null,
   "id": "e6b6a0a2",
   "metadata": {},
   "outputs": [],
   "source": [
    "df.head()"
   ]
  },
  {
   "cell_type": "code",
   "execution_count": null,
   "id": "2afb5309",
   "metadata": {},
   "outputs": [],
   "source": [
    "# Bring in mean control values\n",
    "df = df.merge(\n",
    "    df_control_pivoted[[\"TISSUE_SAMPLE\", \"DarkCorner\", \"GE_BrightCorner\", \"control_mean\"]],\n",
    "    on=\"TISSUE_SAMPLE\",\n",
    "    how=\"left\"\n",
    ")"
   ]
  },
  {
   "cell_type": "code",
   "execution_count": null,
   "id": "254e1dd0",
   "metadata": {},
   "outputs": [],
   "source": [
    "# Drop Dark and Bright corners\n",
    "mask_control = df[\"ID_REF\"].isin([\"GE_BrightCorner\", \"DarkCorner\"])\n",
    "df = df[~mask_control]"
   ]
  },
  {
   "cell_type": "code",
   "execution_count": null,
   "id": "b01fad0b",
   "metadata": {},
   "outputs": [],
   "source": [
    "# Apply scaling within each group\n",
    "df[\"scaled_value\"] = df.groupby(\"TISSUE_SAMPLE\")[\"VALUE\"].transform(scale_to_range)"
   ]
  },
  {
   "cell_type": "code",
   "execution_count": null,
   "id": "a6198369",
   "metadata": {},
   "outputs": [],
   "source": [
    "X_simple = count_gene_expression_simple_threshold(df, value_col=\"scaled_value\", id_cols=[\"ID_REF\"], threshold=0.0)\n",
    "X_column = count_gene_expression_column_threshold(df, threshold_col=\"control_mean\", id_cols=[\"ID_REF\", \"reprogrammed\"])"
   ]
  },
  {
   "cell_type": "code",
   "execution_count": null,
   "id": "c3b8e8cf",
   "metadata": {},
   "outputs": [],
   "source": [
    "X_simple = count_gene_expression_simple_threshold(df, value_col=\"scaled_value\", id_cols=[\"ID_REF\"], threshold=0.0)"
   ]
  },
  {
   "cell_type": "code",
   "execution_count": null,
   "id": "2b731d1e",
   "metadata": {},
   "outputs": [],
   "source": [
    "X_simple_not_scaled = count_gene_expression_simple_threshold(df, value_col=\"VALUE\", id_cols=[\"ID_REF\"], threshold=0.0)"
   ]
  },
  {
   "cell_type": "code",
   "execution_count": null,
   "id": "65af4a87",
   "metadata": {},
   "outputs": [],
   "source": [
    "X_simple.head()"
   ]
  },
  {
   "cell_type": "code",
   "execution_count": null,
   "id": "e0e9ae2b",
   "metadata": {},
   "outputs": [],
   "source": [
    "fig = px.histogram(X_simple, x='gene_expressed_sum')\n",
    "\n",
    "# Customize the layout\n",
    "fig.update_layout(\n",
    "    title_text=f'Gene expressed sum histogram based on simple filtering. # of tissues = {X_simple.iloc[0, 1]}. Threshold = 0.0',\n",
    "    xaxis_title_text='Expressed sum', # xaxis label\n",
    "    yaxis_title_text='Frequency', # yaxis label\n",
    "    #bargap=0.2, # gap between bars of adjacent location coordinates\n",
    ")\n",
    "\n",
    "# Show the plot\n",
    "fig.show()"
   ]
  },
  {
   "cell_type": "code",
   "execution_count": null,
   "id": "3ee20fe4",
   "metadata": {},
   "outputs": [],
   "source": [
    "fig = px.histogram(X_simple_not_scaled, x='gene_expressed_sum')\n",
    "\n",
    "# Customize the layout\n",
    "fig.update_layout(\n",
    "    title_text=f'Gene expressed sum histogram based on simple filtering. # of tissues = {X_simple_not_scaled.iloc[0, 1]} Threshold = 0.0',\n",
    "    xaxis_title_text='Expressed sum', # xaxis label\n",
    "    yaxis_title_text='Frequency', # yaxis label\n",
    "    #bargap=0.2, # gap between bars of adjacent location coordinates\n",
    ")\n",
    "\n",
    "# Show the plot\n",
    "fig.show()"
   ]
  },
  {
   "cell_type": "code",
   "execution_count": null,
   "id": "5d38a336",
   "metadata": {},
   "outputs": [],
   "source": [
    "X_simple"
   ]
  },
  {
   "cell_type": "code",
   "execution_count": null,
   "id": "e0042d15",
   "metadata": {},
   "outputs": [],
   "source": [
    "X_simple[\"gene_expressed_sum\"].unique()"
   ]
  },
  {
   "cell_type": "code",
   "execution_count": null,
   "id": "fd5e3a65",
   "metadata": {},
   "outputs": [],
   "source": [
    "X_column[\"gene_expressed_sum\"].unique()"
   ]
  },
  {
   "cell_type": "code",
   "execution_count": null,
   "id": "615e694f",
   "metadata": {},
   "outputs": [],
   "source": [
    "df.head()"
   ]
  },
  {
   "cell_type": "markdown",
   "id": "e6682598",
   "metadata": {},
   "source": [
    "# Tests for expression thresholds"
   ]
  },
  {
   "cell_type": "code",
   "execution_count": null,
   "id": "7a190456",
   "metadata": {},
   "outputs": [],
   "source": [
    "# Set thresholds\n",
    "score_thresholds_two_tailed = {\n",
    "    \"90th_percentile\": 1.64,\n",
    "    \"95th_percentile\": 1.96,\n",
    "    \"99th_percentile\": 2.58\n",
    "}\n",
    "\n",
    "quantile_thresholds_two_tailed = {\n",
    "    \"90th_percentile\": 0.90,\n",
    "    \"95th_percentile\": 0.95,\n",
    "    \"99th_percentile\": 0.99\n",
    "}\n",
    "\n",
    "high_expression_filter = ('reprogrammed_share_highly_expressed', 0.99)\n",
    "negative_expression_filter = ('normal_share_negatively_expressed', 0.80)"
   ]
  },
  {
   "cell_type": "code",
   "execution_count": null,
   "id": "22896957",
   "metadata": {},
   "outputs": [],
   "source": [
    "def prune_results(\n",
    "        df: pd.DataFrame, \n",
    "        high_expression: tuple[str, float],\n",
    "        negative_expression: tuple[str, float]\n",
    "        ) -> pd.DataFrame:\n",
    "    \"\"\"\n",
    "    Filters the DataFrame based on conditions for high and negative expression.\n",
    "\n",
    "    This function prunes the input DataFrame by applying two filters: one for high expression and another for negative expression. \n",
    "    Rows are retained if they meet both conditions: their value in the column specified for high expression exceeds the \n",
    "    corresponding threshold, and their value in the column specified for negative expression exceeds its threshold.\n",
    "\n",
    "    Parameters:\n",
    "    df (pd.DataFrame): The input DataFrame to be pruned.\n",
    "    high_expression (tuple[str, float]): A tuple containing the column name and threshold for high expression share.\n",
    "    negative_expression (tuple[str, float]): A tuple containing the column name and threshold for negative expression share.\n",
    "\n",
    "    Returns:\n",
    "    pd.DataFrame: A pruned DataFrame containing rows that meet both high and negative expression criteria.\n",
    "    \"\"\"\n",
    "    df = df.copy()\n",
    "    mask = (\n",
    "        (df[high_expression[0]] >= high_expression[1]) &\n",
    "        (df[negative_expression[0]] >= negative_expression[1])\n",
    "    )\n",
    "    return df[mask]\n",
    "\n",
    "\n",
    "def _get_expression_shares(\n",
    "        df: pd.DataFrame,\n",
    "        reprogrammed_tissues: dict[str, list[str]],\n",
    "        column_score: str,\n",
    "        high_threshold: float\n",
    "        ) -> pd.DataFrame:\n",
    "    # Process each key in reprogrammed tissues\n",
    "    dictkey_cols = []\n",
    "    for key, tissue_samples in reprogrammed_tissues.items():\n",
    "        key_high_expr_col = f'{key}_highly_expressed'\n",
    "        dictkey_cols.append(key_high_expr_col)\n",
    "        \n",
    "        # Find genes highly expressed in any of the tissue samples for this key\n",
    "        mask_highly_expressed_in_key = (\n",
    "            df[COLUMN_TISSUE_SAMPLE].isin(tissue_samples) & (df[column_score] > high_threshold)\n",
    "        )\n",
    "        highly_expressed_genes = df[mask_highly_expressed_in_key][COLUMN_GENE].unique()\n",
    "\n",
    "        # Mark genes as 1 if they are highly expressed in any of the key's tissue samples\n",
    "        df[key_high_expr_col] = df[COLUMN_GENE].isin(highly_expressed_genes).astype(int)\n",
    "\n",
    "    # Calculate shares for normal and reprogrammed samples\n",
    "    normal_sample_mask = df['reprogrammed'] == 0\n",
    "    normal_negatively_expressed = df[normal_sample_mask].groupby(COLUMN_GENE)['negatively_expressed'].mean()\n",
    "    df = df.join(normal_negatively_expressed, on=COLUMN_GENE, rsuffix='_normal_share')\n",
    "\n",
    "    df = (df\n",
    "        .rename(\n",
    "            columns={'negatively_expressed_normal_share': 'normal_share_negatively_expressed'}\n",
    "            )\n",
    "        )\n",
    "\n",
    "    df['reprogrammed_share_highly_expressed'] = df[dictkey_cols].mean(axis=1)\n",
    "\n",
    "    return df\n",
    "\n",
    "\n",
    "def z_score_analysis(\n",
    "        df: pd.DataFrame,\n",
    "        threshold: float = 1.96,\n",
    "        reprogrammed_tissues: dict[str, list[str]] = REPROGRAMMED_SAMPLES,\n",
    "        column_score: str = 'z_score'\n",
    "        ) -> pd.DataFrame:\n",
    "    \"\"\"\n",
    "    Performs z-score analysis on gene expression data to identify highly and negatively expressed genes.\n",
    "\n",
    "    This function applies z-score thresholds to determine high and negative expression in a gene expression dataset.\n",
    "    It adds columns indicating whether each gene is highly or negatively expressed based on the z-score. It also processes \n",
    "    specified reprogrammed tissues to identify genes that are highly expressed in any of the tissue samples for each given key.\n",
    "    Additionally, it calculates the share of negatively expressed genes in normal samples and the share of highly expressed genes \n",
    "    in reprogrammed samples.\n",
    "\n",
    "    Parameters:\n",
    "    df (pd.DataFrame): The input DataFrame containing gene expression data.\n",
    "    threshold (float, optional): The z-score threshold for defining high expression. Defaults to 1.96 (~95th percentile).\n",
    "    reprogrammed_tissues (dict[str, list[str]], optional): A dictionary mapping keys to lists of tissue samples \n",
    "                                                            representing reprogrammed tissues.\n",
    "\n",
    "    Returns:\n",
    "    pd.DataFrame: The DataFrame with additional columns indicating high/negative expression and shares of expression in normal \n",
    "                  and reprogrammed samples.\n",
    "    \"\"\"\n",
    "    \n",
    "    df = df.copy()\n",
    "\n",
    "    # Define thresholds for high and low expression\n",
    "    high_threshold = threshold\n",
    "    low_threshold = -1 * high_threshold\n",
    "\n",
    "    df['z_score'] = df.groupby(COLUMN_TISSUE_SAMPLE)[COLUMN_NORM_VALUE].transform(zscore)\n",
    "\n",
    "    df['highly_expressed'] = (df['z_score'] > high_threshold).astype(int)\n",
    "    df['negatively_expressed'] = (df['z_score'] < low_threshold).astype(int)\n",
    "\n",
    "    return _get_expression_shares(df, reprogrammed_tissues, column_score, high_threshold)\n",
    "\n",
    "\n",
    "def bimodal_analysis(\n",
    "        df: pd.DataFrame,\n",
    "        threshold: float = 1.96,\n",
    "        reprogrammed_tissues: dict[str, list[str]] = REPROGRAMMED_SAMPLES,\n",
    "        column_score: str = 'bimodal_expression'\n",
    "        ) -> pd.DataFrame:\n",
    "    \"\"\"\n",
    "    Analyzes gene expression data to classify genes based on bimodal expression patterns and calculates the share \n",
    "    of highly and negatively expressed genes in each tissue sample.\n",
    "\n",
    "    Parameters:\n",
    "    df (pd.DataFrame): The input DataFrame containing gene expression data.\n",
    "    value_column (str): The column name in df that contains the gene expression values to be analyzed.\n",
    "    threshold (float, optional): The z-score threshold for defining high and low expression in each mode. Defaults to 1.96.\n",
    "\n",
    "    Returns:\n",
    "    pd.DataFrame: The DataFrame with additional columns indicating bimodal high, low, or normal expression for each tissue sample,\n",
    "                  along with the share of highly and negatively expressed genes.\n",
    "    \"\"\"\n",
    "    df = df.copy()\n",
    "    tissue_samples = df['TISSUE_SAMPLE'].unique()\n",
    "\n",
    "    # Define thresholds for high and low expression\n",
    "    high_threshold = threshold\n",
    "    low_threshold = -1 * high_threshold\n",
    "\n",
    "    # Classify gene expression using bimodal models\n",
    "    for tissue in tissue_samples:\n",
    "        sample_values = df[df[COLUMN_TISSUE_SAMPLE] == tissue][COLUMN_NORM_VALUE]\n",
    "        bimodal_labels = classify_expression_bimodal(sample_values, threshold)\n",
    "\n",
    "        # Assuming 'ID_REF' is the identifier for each gene\n",
    "        df.loc[df['TISSUE_SAMPLE'] == tissue, column_score] = bimodal_labels\n",
    "\n",
    "    df['highly_expressed'] = (df['bimodal_expression'] > high_threshold).astype(int)\n",
    "    df['negatively_expressed'] = (df['bimodal_expression'] < low_threshold).astype(int)\n",
    "\n",
    "    return _get_expression_shares(df, reprogrammed_tissues, column_score, high_threshold)\n",
    "\n",
    "\n",
    "def classify_expression_bimodal(sample_values: pd.Series | np.ndarray, threshold: float) -> list[str]:\n",
    "    \"\"\"\n",
    "    Classifies each value in a sample as highly expressed, negatively expressed, or normally expressed in a bimodal distribution.\n",
    "\n",
    "    The classification is based on a Gaussian Mixture Model with two components. Each value is assigned to a component (mode)\n",
    "    and then classified as high, low, or normal based on its distance from the mean of its assigned mode.\n",
    "\n",
    "    Parameters:\n",
    "    sample_values (pd.Series | np.ndarray): An array or series of gene expression values to be classified.\n",
    "    threshold (float, optional): The threshold (in standard deviations from the mean) for defining high and low expression. \n",
    "                                 Defaults to 1.96 (approximately the 95th percentile).\n",
    "\n",
    "    Returns:\n",
    "    list[str]: A list of labels ('bimodal_highly_expressed', 'bimodal_negatively_expressed', 'bimodal_normally_expressed') \n",
    "               for each value in sample_values.\n",
    "    \"\"\"\n",
    "    # Reshape the data and fit a GMM with 2 components\n",
    "    if isinstance(sample_values, pd.Series):\n",
    "        sample_values = sample_values.to_numpy()\n",
    "    sample_values_reshaped = sample_values.reshape(-1, 1)\n",
    "    gmm = GaussianMixture(n_components=2, random_state=0).fit(sample_values_reshaped)\n",
    "\n",
    "    # Predict the component each sample belongs to\n",
    "    component_labels = gmm.predict(sample_values_reshaped)\n",
    "\n",
    "    # Calculate mean and std for each component\n",
    "    means = gmm.means_.flatten()\n",
    "    stds = np.sqrt(gmm.covariances_.flatten())\n",
    "\n",
    "    # Define thresholds for high and low expression for each mode\n",
    "    high_thresholds = means + threshold * stds\n",
    "    low_thresholds = means - threshold * stds\n",
    "\n",
    "    # Classify each gene based on its mode and expression level\n",
    "    expression_labels: list[float] = []\n",
    "    for value, label in zip(sample_values, component_labels): # Should negativity be considerd here?\n",
    "        if value > high_thresholds[label]:\n",
    "            expression_labels.append(1.1 * threshold)\n",
    "        elif value < low_thresholds[label]:\n",
    "            expression_labels.append(-1.1 * threshold)\n",
    "        else:\n",
    "            expression_labels.append(0.0)\n",
    "\n",
    "    return expression_labels\n",
    "\n",
    "\n",
    "def quantile_analysis(\n",
    "        df: pd.DataFrame,\n",
    "        threshold: float = 1.96,\n",
    "        reprogrammed_tissues: dict[str, list[str]] = REPROGRAMMED_SAMPLES,\n",
    "        column_score:str = 'quantile_expression',\n",
    "        lower_quantile: float = 0.05,\n",
    "        upper_quantile: float = 0.95,\n",
    "        ) -> pd.DataFrame:\n",
    "    \"\"\"\n",
    "    Analyzes gene expression data to classify genes based on bimodal expression patterns and calculates the share \n",
    "    of highly and negatively expressed genes in each tissue sample.\n",
    "\n",
    "    Parameters:\n",
    "    df (pd.DataFrame): The input DataFrame containing gene expression data.\n",
    "    value_column (str): The column name in df that contains the gene expression values to be analyzed.\n",
    "    threshold (float, optional): The z-score threshold for defining high and low expression in each mode. Defaults to 1.96.\n",
    "\n",
    "    Returns:\n",
    "    pd.DataFrame: The DataFrame with additional columns indicating bimodal high, low, or normal expression for each tissue sample,\n",
    "                  along with the share of highly and negatively expressed genes.\n",
    "    \"\"\"\n",
    "    df = df.copy()\n",
    "    tissue_samples = df['TISSUE_SAMPLE'].unique()\n",
    "\n",
    "    # Classify gene expression using bimodal models\n",
    "    for tissue in tissue_samples:\n",
    "        sample_values = df[df[COLUMN_TISSUE_SAMPLE] == tissue][COLUMN_NORM_VALUE]\n",
    "        quantile_labels = classify_quantiles(sample_values, threshold, lower_quantile, upper_quantile)\n",
    "\n",
    "        # Assuming 'ID_REF' is the identifier for each gene\n",
    "        df.loc[df[COLUMN_TISSUE_SAMPLE] == tissue, column_score] = quantile_labels\n",
    "\n",
    "    df['highly_expressed'] = (df[column_score] == 'highly_expressed').astype(int)\n",
    "    df['negatively_expressed'] = (df[column_score] == 'negatively_expressed').astype(int)\n",
    "\n",
    "    return _get_expression_shares(df, reprogrammed_tissues, column_score, threshold)\n",
    "\n",
    "\n",
    "def classify_quantiles(\n",
    "        sample_values: pd.Series | np.ndarray,\n",
    "        threshold: float,\n",
    "        lower_quantile: float,\n",
    "        upper_quantile: float\n",
    "    ) -> pd.DataFrame:\n",
    "    \"\"\"\n",
    "    Classifies each value in a sample as highly expressed, negatively expressed, or normally expressed based on quantiles.\n",
    "\n",
    "    The classification uses the 25th and 75th quantiles (by default) to define thresholds for low and high expression. \n",
    "    Values above the upper quantile threshold are classified as 'highly_expressed', values below the lower quantile threshold \n",
    "    are classified as 'negatively_expressed', and values in between are classified as 'normally_expressed'.\n",
    "\n",
    "    Parameters:\n",
    "    sample_values (pd.Series | np.ndarray): An array or series of gene expression values to be classified.\n",
    "    lower_quantile (float, optional): The lower quantile threshold for defining low expression. Defaults to 0.25.\n",
    "    upper_quantile (float, optional): The upper quantile threshold for defining high expression. Defaults to 0.75.\n",
    "\n",
    "    Returns:\n",
    "    list[str]: A list of labels ('highly_expressed', 'negatively_expressed', 'normally_expressed') for each value in sample_values.\n",
    "    \"\"\"\n",
    "    if isinstance(sample_values, pd.Series):\n",
    "        sample_values = sample_values.to_numpy()\n",
    "    # Define quantile thresholds\n",
    "    high_threshold = np.quantile(sample_values, upper_quantile)\n",
    "    low_threshold = np.quantile(sample_values, lower_quantile)\n",
    "\n",
    "    # Classify each gene based on quantile thresholds\n",
    "    expression_labels: list[float] = []\n",
    "    for value in sample_values:\n",
    "        if value > high_threshold:\n",
    "            expression_labels.append(1.1 * threshold)\n",
    "        elif value < low_threshold:\n",
    "            expression_labels.append(-1.1 * threshold)\n",
    "        else:\n",
    "            expression_labels.append(0.0)\n",
    "\n",
    "    return expression_labels\n",
    "\n",
    "\n",
    "def grid_search(\n",
    "        df: pd.DataFrame,\n",
    "        lower_thresholds: np.ndarray,\n",
    "        upper_thresholds: np.ndarray,\n",
    "        reprogrammed_tissues: dict[str, list[str]] = REPROGRAMMED_SAMPLES,\n",
    "        ) -> pd.DataFrame:\n",
    "    df = df.copy()\n",
    "    _high_expression_filter = ('reprogrammed_share_highly_expressed', 0.99)\n",
    "    _negative_expression_filter = ('normal_share_negatively_expressed', 0.80)\n",
    "\n",
    "    potential_gene_dfs: list[pd.DataFrame] = []\n",
    "    for low_threshold in lower_thresholds:\n",
    "        for high_threshold in upper_thresholds:\n",
    "             # Define thresholds for high and low expression\n",
    "                df['highly_expressed'] = (df[COLUMN_NORM_VALUE] > high_threshold).astype(int)\n",
    "                df['negatively_expressed'] = (df[COLUMN_NORM_VALUE] < low_threshold).astype(int)\n",
    "                df_current = prune_results(\n",
    "                    _get_expression_shares(df, reprogrammed_tissues, COLUMN_NORM_VALUE, high_threshold),\n",
    "                    _high_expression_filter,\n",
    "                    _negative_expression_filter\n",
    "                    )\n",
    "                print(f'Iteration: ({low_threshold, high_threshold}. Df shape: {df_current.shape})')\n",
    "                if df_current.shape[0] > 0:\n",
    "                    print(\n",
    "                        f'Lower/Upper thresholds set at: ({low_threshold}, {high_threshold})'\n",
    "                        f'# of unique genes: {df_current[COLUMN_GENE].nunique()}'\n",
    "                        )\n",
    "                    if df_current[COLUMN_GENE].nunique() < 20:\n",
    "                        print(f'Unique genes: {df_current[COLUMN_GENE].unique()}')\n",
    "                    potential_gene_dfs.append(df_current)\n",
    "    return potential_gene_dfs"
   ]
  },
  {
   "cell_type": "markdown",
   "id": "97b8c439",
   "metadata": {},
   "source": [
    "## Z-scored based filtering of highly and negatively expressed genes"
   ]
  },
  {
   "cell_type": "code",
   "execution_count": null,
   "id": "87ab9483",
   "metadata": {},
   "outputs": [],
   "source": [
    "# Filtering\n",
    "for key, threshold in score_thresholds_two_tailed.items():\n",
    "    print(f'Running z-score analysis for {key}~={threshold}')\n",
    "    df_z_scores = z_score_analysis(df, threshold)\n",
    "    df_pruned_z_scores = prune_results(df_z_scores, high_expression_filter, negative_expression_filter)\n",
    "\n",
    "    print(f'Left with {df_pruned_z_scores[COLUMN_GENE].nunique()} genes after pruning.')"
   ]
  },
  {
   "cell_type": "code",
   "execution_count": null,
   "id": "a749fec9",
   "metadata": {},
   "outputs": [],
   "source": [
    "df_pruned_z_scores[COLUMN_GENE].unique()"
   ]
  },
  {
   "cell_type": "markdown",
   "id": "d808f404",
   "metadata": {},
   "source": [
    "## Bimodal distribution based filtering of highly and negatively expressed genes"
   ]
  },
  {
   "cell_type": "code",
   "execution_count": null,
   "id": "a7d6db2f",
   "metadata": {},
   "outputs": [],
   "source": [
    "df_bimodal = bimodal_analysis(df)"
   ]
  },
  {
   "cell_type": "code",
   "execution_count": null,
   "id": "bc751bee",
   "metadata": {},
   "outputs": [],
   "source": [
    "# Filtering\n",
    "for key, threshold in score_thresholds_two_tailed.items():\n",
    "    print(f'Running bimodal analysis for {key}~={threshold}')\n",
    "    df_pruned_bimodal = prune_results(df_bimodal, high_expression_filter, negative_expression_filter)\n",
    "\n",
    "    print(f'Left with {df_pruned_bimodal[COLUMN_GENE].nunique()} genes after pruning.')"
   ]
  },
  {
   "cell_type": "markdown",
   "id": "e905a275",
   "metadata": {},
   "source": [
    "## Quantile based filtering of highly and negatively expressed genes"
   ]
  },
  {
   "cell_type": "code",
   "execution_count": null,
   "id": "84b66a89",
   "metadata": {},
   "outputs": [],
   "source": [
    "# Filtering\n",
    "for key, threshold in quantile_thresholds_two_tailed.items():\n",
    "    print(f'Running quantile analysis for {key}~={threshold}')\n",
    "    df_quantiles = quantile_analysis(df, threshold, lower_quantile=1-threshold, upper_quantile=threshold)\n",
    "    df_pruned_quantiles = prune_results(df_z_scores, high_expression_filter, negative_expression_filter)\n",
    "\n",
    "    print(f'Left with {df_pruned_quantiles[COLUMN_GENE].nunique()} genes after pruning.')"
   ]
  },
  {
   "cell_type": "code",
   "execution_count": null,
   "id": "e6c5f2f0",
   "metadata": {},
   "outputs": [],
   "source": [
    "df_pruned_quantiles[COLUMN_GENE].unique()"
   ]
  },
  {
   "cell_type": "markdown",
   "id": "978ab6ac",
   "metadata": {},
   "source": [
    "## Grid search based filterig of highly and negatively expressed genes"
   ]
  },
  {
   "cell_type": "code",
   "execution_count": null,
   "id": "8de7459e",
   "metadata": {},
   "outputs": [],
   "source": [
    "lower_thresholds = np.arange(-4.7, -3.5, 0.1)\n",
    "upper_thresholds = np.arange(5.5, 7.1, 0.1)\n",
    "df_grid = grid_search(df, lower_thresholds, upper_thresholds)"
   ]
  }
 ],
 "metadata": {
  "kernelspec": {
   "display_name": "Python 3 (ipykernel)",
   "language": "python",
   "name": "python3"
  },
  "language_info": {
   "codemirror_mode": {
    "name": "ipython",
    "version": 3
   },
   "file_extension": ".py",
   "mimetype": "text/x-python",
   "name": "python",
   "nbconvert_exporter": "python",
   "pygments_lexer": "ipython3",
   "version": "3.11.7"
  }
 },
 "nbformat": 4,
 "nbformat_minor": 5
}
